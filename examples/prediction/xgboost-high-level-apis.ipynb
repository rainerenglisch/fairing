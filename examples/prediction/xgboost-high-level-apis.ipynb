{
 "cells": [
  {
   "cell_type": "markdown",
   "metadata": {},
   "source": [
    "# Train and deploy on Kubeflow from Notebooks\n",
    "\n",
    "This notebook introduces you to using Kubeflow Fairing to train and deploy a model to Kubeflow on Google Kubernetes Engine (GKE), and Google Cloud ML Engine. This notebook demonstrate how to:\n",
    " \n",
    "* Train an XGBoost model in a local notebook,\n",
    "* Use Kubeflow Fairing to train an XGBoost model remotely on Kubeflow,\n",
    "* Use Kubeflow Fairing to train an XGBoost model remotely on Cloud ML Engine,\n",
    "* Use Kubeflow Fairing to deploy a trained model to Kubeflow, and\n",
    "* Call the deployed endpoint for predictions.\n",
    "\n",
    "To learn more about how to run this notebook locally, see the guide to [training and deploying on GCP from a local notebook][gcp-local-notebook].\n",
    "\n",
    "[gcp-local-notebook]: https://kubeflow.org/docs/fairing/gcp-local-notebook/"
   ]
  },
  {
   "cell_type": "markdown",
   "metadata": {},
   "source": [
    "## Set up your notebook for training an XGBoost model\n",
    "\n",
    "Import the libraries required to train this model."
   ]
  },
  {
   "cell_type": "code",
   "execution_count": 1,
   "metadata": {},
   "outputs": [
    {
     "name": "stdout",
     "output_type": "stream",
     "text": [
      "['/home/jovyan/fairing', '/opt/conda/lib/python36.zip', '/opt/conda/lib/python3.6', '/opt/conda/lib/python3.6/lib-dynload', '', '/opt/conda/lib/python3.6/site-packages', '/opt/conda/lib/python3.6/site-packages/IPython/extensions', '/home/jovyan/.ipython']\n"
     ]
    }
   ],
   "source": [
    "import sys\n",
    "sys.path.insert(0,\"/home/jovyan/fairing\")\n",
    "print(sys.path)"
   ]
  },
  {
   "cell_type": "code",
   "execution_count": 2,
   "metadata": {},
   "outputs": [
    {
     "name": "stdout",
     "output_type": "stream",
     "text": [
      "Requirement already satisfied: pandas in /opt/conda/lib/python3.6/site-packages (0.24.2)\n",
      "Requirement already satisfied: numpy>=1.12.0 in /opt/conda/lib/python3.6/site-packages (from pandas) (1.16.2)\n",
      "Requirement already satisfied: pytz>=2011k in /opt/conda/lib/python3.6/site-packages (from pandas) (2018.9)\n",
      "Requirement already satisfied: python-dateutil>=2.5.0 in /opt/conda/lib/python3.6/site-packages (from pandas) (2.8.0)\n",
      "Requirement already satisfied: six>=1.5 in /opt/conda/lib/python3.6/site-packages (from python-dateutil>=2.5.0->pandas) (1.12.0)\n",
      "\u001b[33mYou are using pip version 19.0.1, however version 19.1.1 is available.\n",
      "You should consider upgrading via the 'pip install --upgrade pip' command.\u001b[0m\n",
      "Requirement already satisfied: joblib in /opt/conda/lib/python3.6/site-packages (0.13.2)\n",
      "\u001b[33mYou are using pip version 19.0.1, however version 19.1.1 is available.\n",
      "You should consider upgrading via the 'pip install --upgrade pip' command.\u001b[0m\n",
      "Requirement already satisfied: sklearn in /opt/conda/lib/python3.6/site-packages (0.0)\n",
      "Requirement already satisfied: scikit-learn in /opt/conda/lib/python3.6/site-packages (from sklearn) (0.21.2)\n",
      "Requirement already satisfied: scipy>=0.17.0 in /opt/conda/lib/python3.6/site-packages (from scikit-learn->sklearn) (1.2.1)\n",
      "Requirement already satisfied: numpy>=1.11.0 in /opt/conda/lib/python3.6/site-packages (from scikit-learn->sklearn) (1.16.2)\n",
      "Requirement already satisfied: joblib>=0.11 in /opt/conda/lib/python3.6/site-packages (from scikit-learn->sklearn) (0.13.2)\n",
      "\u001b[33mYou are using pip version 19.0.1, however version 19.1.1 is available.\n",
      "You should consider upgrading via the 'pip install --upgrade pip' command.\u001b[0m\n"
     ]
    }
   ],
   "source": [
    "!pip3 install pandas \n",
    "!pip3 install joblib\n",
    "!pip3 install sklearn"
   ]
  },
  {
   "cell_type": "code",
   "execution_count": 3,
   "metadata": {},
   "outputs": [],
   "source": [
    "import argparse\n",
    "import logging\n",
    "import joblib\n",
    "import sys\n",
    "import pandas as pd\n",
    "from sklearn.metrics import mean_absolute_error\n",
    "from sklearn.model_selection import train_test_split\n",
    "from sklearn.impute import SimpleImputer\n",
    "from xgboost import XGBRegressor"
   ]
  },
  {
   "cell_type": "code",
   "execution_count": 4,
   "metadata": {},
   "outputs": [],
   "source": [
    "logging.basicConfig(format='%(message)s')\n",
    "logging.getLogger().setLevel(logging.INFO)"
   ]
  },
  {
   "cell_type": "markdown",
   "metadata": {},
   "source": [
    "Define a function to split the input file into training and testing datasets."
   ]
  },
  {
   "cell_type": "code",
   "execution_count": 5,
   "metadata": {},
   "outputs": [],
   "source": [
    "def read_input(file_name, test_size=0.25):\n",
    "    \"\"\"Read input data and split it into train and test.\"\"\"\n",
    "    data = pd.read_csv(file_name)\n",
    "    data.dropna(axis=0, subset=['SalePrice'], inplace=True)\n",
    "\n",
    "    y = data.SalePrice\n",
    "    X = data.drop(['SalePrice'], axis=1).select_dtypes(exclude=['object'])\n",
    "\n",
    "    train_X, test_X, train_y, test_y = train_test_split(X.values,\n",
    "                                                      y.values,\n",
    "                                                      test_size=test_size,\n",
    "                                                      shuffle=False)\n",
    "\n",
    "    imputer = SimpleImputer()\n",
    "    train_X = imputer.fit_transform(train_X)\n",
    "    test_X = imputer.transform(test_X)\n",
    "\n",
    "    return (train_X, train_y), (test_X, test_y)"
   ]
  },
  {
   "cell_type": "markdown",
   "metadata": {},
   "source": [
    "Define functions to train, evaluate, and save the trained model."
   ]
  },
  {
   "cell_type": "code",
   "execution_count": 6,
   "metadata": {},
   "outputs": [],
   "source": [
    "def train_model(train_X,\n",
    "                train_y,\n",
    "                test_X,\n",
    "                test_y,\n",
    "                n_estimators,\n",
    "                learning_rate):\n",
    "    \"\"\"Train the model using XGBRegressor.\"\"\"\n",
    "    model = XGBRegressor(n_estimators=n_estimators, learning_rate=learning_rate)\n",
    "\n",
    "    model.fit(train_X,\n",
    "            train_y,\n",
    "            early_stopping_rounds=40,\n",
    "            eval_set=[(test_X, test_y)])\n",
    "\n",
    "    print(\"Best RMSE on eval: %.2f with %d rounds\",\n",
    "               model.best_score,\n",
    "               model.best_iteration+1)\n",
    "    return model\n",
    "\n",
    "def eval_model(model, test_X, test_y):\n",
    "    \"\"\"Evaluate the model performance.\"\"\"\n",
    "    predictions = model.predict(test_X)\n",
    "    logging.info(\"mean_absolute_error=%.2f\", mean_absolute_error(predictions, test_y))\n",
    "\n",
    "def save_model(model, model_file):\n",
    "    \"\"\"Save XGBoost model for serving.\"\"\"\n",
    "    joblib.dump(model, model_file)\n",
    "    logging.info(\"Model export success: %s\", model_file)"
   ]
  },
  {
   "cell_type": "markdown",
   "metadata": {},
   "source": [
    "Define a class for your model, with methods for training and prediction."
   ]
  },
  {
   "cell_type": "code",
   "execution_count": 13,
   "metadata": {},
   "outputs": [],
   "source": [
    "class HousingServe(object):\n",
    "    \n",
    "    def __init__(self):\n",
    "\n",
    "        self.train_input = \"ames_dataset/train.csv\"\n",
    "        self.n_estimators = 50\n",
    "        self.learning_rate = 0.1\n",
    "        self.model_file = \"trained_ames_model.dat\"\n",
    "        self.model = None\n",
    "        \n",
    "\n",
    "    def train(self):\n",
    "        (train_X, train_y), (test_X, test_y) = read_input(self.train_input)\n",
    "        model = train_model(train_X,\n",
    "                          train_y,\n",
    "                          test_X,\n",
    "                          test_y,\n",
    "                          self.n_estimators,\n",
    "                          self.learning_rate)\n",
    "\n",
    "        eval_model(model, test_X, test_y)\n",
    "        save_model(model, self.model_file)\n",
    "\n",
    "    def predict(self, X, feature_names):\n",
    "        \"\"\"Predict using the model for given ndarray.\"\"\"\n",
    "        if not self.model:\n",
    "            self.model = joblib.load(self.model_file)\n",
    "        # Do any preprocessing\n",
    "        prediction = self.model.predict(data=X)\n",
    "        # Do any postprocessing\n",
    "        return [[prediction.item(0), prediction.item(0)]]"
   ]
  },
  {
   "cell_type": "markdown",
   "metadata": {},
   "source": [
    "## Train an XGBoost model in a notebook\n",
    "\n",
    "Call `HousingServe().train()` to train your model, and then evaluate and save your trained model."
   ]
  },
  {
   "cell_type": "code",
   "execution_count": 14,
   "metadata": {},
   "outputs": [
    {
     "name": "stdout",
     "output_type": "stream",
     "text": [
      "[0]\tvalidation_0-rmse:177514\n",
      "Will train until validation_0-rmse hasn't improved in 40 rounds.\n",
      "[1]\tvalidation_0-rmse:161858\n",
      "[2]\tvalidation_0-rmse:147237\n",
      "[3]\tvalidation_0-rmse:134132\n",
      "[4]\tvalidation_0-rmse:122224\n",
      "[5]\tvalidation_0-rmse:111538\n",
      "[6]\tvalidation_0-rmse:102142\n",
      "[7]\tvalidation_0-rmse:93392.3\n",
      "[8]\tvalidation_0-rmse:85824.6\n",
      "[9]\tvalidation_0-rmse:79667.6\n",
      "[10]\tvalidation_0-rmse:73463.4\n",
      "[11]\tvalidation_0-rmse:68059.4\n",
      "[12]\tvalidation_0-rmse:63350.5\n",
      "[13]\tvalidation_0-rmse:59732.1\n",
      "[14]\tvalidation_0-rmse:56260.7\n",
      "[15]\tvalidation_0-rmse:53392.6\n",
      "[16]\tvalidation_0-rmse:50770.8\n",
      "[17]\tvalidation_0-rmse:48107.8\n",
      "[18]\tvalidation_0-rmse:45923.9\n",
      "[19]\tvalidation_0-rmse:44154.2\n",
      "[20]\tvalidation_0-rmse:42488.1\n",
      "[21]\tvalidation_0-rmse:41263.3\n",
      "[22]\tvalidation_0-rmse:40212.8\n",
      "[23]\tvalidation_0-rmse:39089.1\n",
      "[24]\tvalidation_0-rmse:37691.1\n",
      "[25]\tvalidation_0-rmse:36875.2\n",
      "[26]\tvalidation_0-rmse:36276.2\n",
      "[27]\tvalidation_0-rmse:35444.1\n",
      "[28]\tvalidation_0-rmse:34831.5\n",
      "[29]\tvalidation_0-rmse:34205.4\n",
      "[30]\tvalidation_0-rmse:33831.9\n",
      "[31]\tvalidation_0-rmse:33183.6\n",
      "[32]\tvalidation_0-rmse:33019.4\n",
      "[33]\tvalidation_0-rmse:32680\n",
      "[34]\tvalidation_0-rmse:32438.5\n",
      "[35]\tvalidation_0-rmse:32130.4\n",
      "[36]\tvalidation_0-rmse:31644.2\n",
      "[37]\tvalidation_0-rmse:31248.9\n",
      "[38]\tvalidation_0-rmse:31059.8\n",
      "[39]\tvalidation_0-rmse:30862.4\n",
      "[40]\tvalidation_0-rmse:30754\n",
      "[41]\tvalidation_0-rmse:30561.6\n",
      "[42]\tvalidation_0-rmse:30416.9\n",
      "[43]\tvalidation_0-rmse:30156.4\n",
      "[44]\tvalidation_0-rmse:29852.9\n",
      "[45]\tvalidation_0-rmse:29486.6\n",
      "[46]\tvalidation_0-rmse:29158.8\n",
      "[47]\tvalidation_0-rmse:29017\n",
      "[48]\tvalidation_0-rmse:28973.9\n",
      "[49]\tvalidation_0-rmse:28787.7\n"
     ]
    },
    {
     "name": "stderr",
     "output_type": "stream",
     "text": [
      "mean_absolute_error=18173.15\n",
      "Model export success: trained_ames_model.dat\n"
     ]
    },
    {
     "name": "stdout",
     "output_type": "stream",
     "text": [
      "Best RMSE on eval: %.2f with %d rounds 28787.720703 50\n"
     ]
    }
   ],
   "source": [
    "HousingServe().train()"
   ]
  },
  {
   "cell_type": "markdown",
   "metadata": {},
   "source": [
    "## Set up Kubeflow Fairing for training and predictions on GCP\n",
    "\n",
    "Import the `fairing` library and configure the GCP environment that your training or prediction job will run in."
   ]
  },
  {
   "cell_type": "code",
   "execution_count": 22,
   "metadata": {},
   "outputs": [],
   "source": [
    "import os\n",
    "import fairing\n",
    "\n",
    "# Setting up google container repositories (GCR) for storing output containers\n",
    "# You can use any docker container registry istead of GCR\n",
    "#GCP_PROJECT = fairing.cloud.gcp.guess_project_name()\n",
    "#DOCKER_REGISTRY = 'mtr.external.otc.telekomcloud.com/rainer_englisch/kubeflow_test1'\n",
    "DOCKER_REGISTRY = 'index.docker.io/m1st3rb3an'\n",
    "PY_VERSION = \".\".join([str(x) for x in sys.version_info[0:3]])\n",
    "BASE_IMAGE = 'library/python:{}'.format(PY_VERSION)\n",
    "BASE_IMAGE = 'm1st3rb3an/rainers-python:latest'"
   ]
  },
  {
   "cell_type": "code",
   "execution_count": 23,
   "metadata": {
    "scrolled": true
   },
   "outputs": [
    {
     "name": "stderr",
     "output_type": "stream",
     "text": [
      "Using preprocessor: <class 'fairing.preprocessors.function.FunctionPreProcessor'>\n",
      "Using docker registry: index.docker.io/m1st3rb3an\n",
      "Using builder: <class 'fairing.builders.append.append.AppendBuilder'>\n",
      "Building the docker image.\n",
      "Building image using Append builder...\n",
      "Creating docker context: /tmp/fairing_context_irr2fmbx\n",
      "/home/jovyan/fairing/fairing/__init__.py already exists in Fairing context, skipping...\n",
      "Loading Docker credentials for repository 'm1st3rb3an/rainers-python:latest'\n",
      "Image successfully built in 1.4923711330002334s.\n",
      "Pushing image index.docker.io/m1st3rb3an/fairing-job:E60A000B...\n",
      "Loading Docker credentials for repository 'index.docker.io/m1st3rb3an/fairing-job:E60A000B'\n",
      "Uploading index.docker.io/m1st3rb3an/fairing-job:E60A000B\n",
      "Layer sha256:8f754ff80cdfbf510ef941fb7e04b308ed1c2b9a46acb6de0de3d51b330dd16e pushed.\n",
      "Layer sha256:7d3cdae560215b5913fcb23622a9f98b73109c422da51fff1d9eab3c53f0756b pushed.\n",
      "Layer sha256:3dcf628e23cfe54ee406e6da5e3115683672afa60a69ea1e124d6102552247f0 pushed.\n",
      "Layer sha256:1b2a72d4e03052566e99130108071fc4eca4942c62923e3e5cf19666a23088ef pushed.\n",
      "Layer sha256:d4b7902036fe0cefdfe9ccf0404fe13322ecbd552f132be73d3e840f95538838 pushed.\n",
      "Layer sha256:a288a79001c33510fb7a2014a70576bb422f5a210526aa631d906446472b14f2 pushed.\n",
      "Layer sha256:4bc370953db1f559d31afa0043cd304a675ee7d1770fa1583c9b05a25fc9c793 pushed.\n",
      "Layer sha256:dbf17696f820c577bbd8ebd88660acd4b7a3068f185a07ae296c32b86a70ad89 pushed.\n",
      "Layer sha256:7dc3a6a0e509ba4468dafa767116859fcfe1bfd8ad9101ec73691fbd6e1d314a pushed.\n",
      "Layer sha256:c7190a000485f246dcd9ba9ad10b33830d9338354e4b0ce6e8565f2b7df5b07b pushed.\n",
      "Layer sha256:e79bb959ec00faf01da52437df4fad4537ec669f60455a38ad583ec2b8f00498 pushed.\n",
      "Layer sha256:8fa685114b189f448abdf2ac5c29bfc376678bc3d8f81670a5b2cb8420ef780f pushed.\n",
      "Layer sha256:d54db43011fd116b8cb6d9e49e268cee1fa6212f152b30cbfa7f3c4c684427c3 pushed.\n",
      "Layer sha256:69d473365bb390367b7a54a3e890ca28c4640a56dfe4f53a0036130c964a1e52 pushed.\n",
      "Layer sha256:35baa7ed73327928bc490420b0f8d70bd1b4717d19584be99a2d068f79e6ecbb pushed.\n",
      "Finished upload of: index.docker.io/m1st3rb3an/fairing-job:E60A000B\n",
      "Pushed image index.docker.io/m1st3rb3an/fairing-job:E60A000B in 132.81382634700003s.\n",
      "Training job fairing-job-jqktd launched.\n",
      "Waiting for fairing-job-jqktd-5k775 to start...\n",
      "Waiting for fairing-job-jqktd-5k775 to start...\n",
      "Waiting for fairing-job-jqktd-5k775 to start...\n",
      "Waiting for fairing-job-jqktd-5k775 to start...\n",
      "Pod started running True\n"
     ]
    },
    {
     "name": "stdout",
     "output_type": "stream",
     "text": [
      "Requirement already satisfied: pandas in /usr/local/lib/python3.7/site-packages (from -r requirements.txt (line 1)) (0.24.2)\n",
      "Requirement already satisfied: joblib in /usr/local/lib/python3.7/site-packages (from -r requirements.txt (line 2)) (0.13.2)\n",
      "Requirement already satisfied: numpy in /usr/local/lib/python3.7/site-packages (from -r requirements.txt (line 3)) (1.16.4)\n",
      "Requirement already satisfied: xgboost in /usr/local/lib/python3.7/site-packages (from -r requirements.txt (line 4)) (0.90)\n",
      "Requirement already satisfied: scikit-learn>=0.21.0 in /usr/local/lib/python3.7/site-packages (from -r requirements.txt (line 5)) (0.21.2)\n",
      "Requirement already satisfied: seldon-core in /usr/local/lib/python3.7/site-packages (from -r requirements.txt (line 6)) (0.2.7.1)\n",
      "Requirement already satisfied: python-dateutil>=2.5.0 in /usr/local/lib/python3.7/site-packages (from pandas->-r requirements.txt (line 1)) (2.8.0)\n",
      "Requirement already satisfied: pytz>=2011k in /usr/local/lib/python3.7/site-packages (from pandas->-r requirements.txt (line 1)) (2019.1)\n",
      "Requirement already satisfied: scipy in /usr/local/lib/python3.7/site-packages (from xgboost->-r requirements.txt (line 4)) (1.3.0)\n",
      "Requirement already satisfied: flask-cors in /usr/local/lib/python3.7/site-packages (from seldon-core->-r requirements.txt (line 6)) (3.0.7)\n",
      "Requirement already satisfied: protobuf in /usr/local/lib/python3.7/site-packages (from seldon-core->-r requirements.txt (line 6)) (3.8.0)\n",
      "Requirement already satisfied: Flask-OpenTracing==0.2.0 in /usr/local/lib/python3.7/site-packages (from seldon-core->-r requirements.txt (line 6)) (0.2.0)\n",
      "Requirement already satisfied: jaeger-client==3.13.0 in /usr/local/lib/python3.7/site-packages (from seldon-core->-r requirements.txt (line 6)) (3.13.0)\n",
      "Requirement already satisfied: tensorflow in /usr/local/lib/python3.7/site-packages (from seldon-core->-r requirements.txt (line 6)) (1.13.1)\n",
      "Requirement already satisfied: opentracing<2,>=1.2.2 in /usr/local/lib/python3.7/site-packages (from seldon-core->-r requirements.txt (line 6)) (1.3.0)\n",
      "Requirement already satisfied: flatbuffers in /usr/local/lib/python3.7/site-packages (from seldon-core->-r requirements.txt (line 6)) (1.11)\n",
      "Requirement already satisfied: flask in /usr/local/lib/python3.7/site-packages (from seldon-core->-r requirements.txt (line 6)) (1.0.3)\n",
      "Requirement already satisfied: grpcio-opentracing in /usr/local/lib/python3.7/site-packages (from seldon-core->-r requirements.txt (line 6)) (1.1.4)\n",
      "Requirement already satisfied: requests in /usr/local/lib/python3.7/site-packages (from seldon-core->-r requirements.txt (line 6)) (2.22.0)\n",
      "Requirement already satisfied: pyyaml in /usr/local/lib/python3.7/site-packages (from seldon-core->-r requirements.txt (line 6)) (5.1)\n",
      "Requirement already satisfied: redis in /usr/local/lib/python3.7/site-packages (from seldon-core->-r requirements.txt (line 6)) (3.2.1)\n",
      "Requirement already satisfied: grpcio in /usr/local/lib/python3.7/site-packages (from seldon-core->-r requirements.txt (line 6)) (1.21.1)\n",
      "Requirement already satisfied: six>=1.5 in /usr/local/lib/python3.7/site-packages (from python-dateutil>=2.5.0->pandas->-r requirements.txt (line 1)) (1.12.0)\n",
      "Requirement already satisfied: setuptools in /usr/local/lib/python3.7/site-packages (from protobuf->seldon-core->-r requirements.txt (line 6)) (40.8.0)\n",
      "Requirement already satisfied: thrift in /usr/local/lib/python3.7/site-packages (from jaeger-client==3.13.0->seldon-core->-r requirements.txt (line 6)) (0.11.0)\n",
      "Requirement already satisfied: tornado<5,>=4.3 in /usr/local/lib/python3.7/site-packages (from jaeger-client==3.13.0->seldon-core->-r requirements.txt (line 6)) (4.5.3)\n",
      "Requirement already satisfied: threadloop<2,>=1 in /usr/local/lib/python3.7/site-packages (from jaeger-client==3.13.0->seldon-core->-r requirements.txt (line 6)) (1.0.2)\n",
      "Requirement already satisfied: termcolor>=1.1.0 in /usr/local/lib/python3.7/site-packages (from tensorflow->seldon-core->-r requirements.txt (line 6)) (1.1.0)\n",
      "Requirement already satisfied: tensorflow-estimator<1.14.0rc0,>=1.13.0 in /usr/local/lib/python3.7/site-packages (from tensorflow->seldon-core->-r requirements.txt (line 6)) (1.13.0)\n",
      "Requirement already satisfied: keras-preprocessing>=1.0.5 in /usr/local/lib/python3.7/site-packages (from tensorflow->seldon-core->-r requirements.txt (line 6)) (1.1.0)\n",
      "Requirement already satisfied: absl-py>=0.1.6 in /usr/local/lib/python3.7/site-packages (from tensorflow->seldon-core->-r requirements.txt (line 6)) (0.7.1)\n",
      "Requirement already satisfied: gast>=0.2.0 in /usr/local/lib/python3.7/site-packages (from tensorflow->seldon-core->-r requirements.txt (line 6)) (0.2.2)\n",
      "Requirement already satisfied: keras-applications>=1.0.6 in /usr/local/lib/python3.7/site-packages (from tensorflow->seldon-core->-r requirements.txt (line 6)) (1.0.8)\n",
      "Requirement already satisfied: tensorboard<1.14.0,>=1.13.0 in /usr/local/lib/python3.7/site-packages (from tensorflow->seldon-core->-r requirements.txt (line 6)) (1.13.1)\n",
      "Requirement already satisfied: wheel>=0.26 in /usr/local/lib/python3.7/site-packages (from tensorflow->seldon-core->-r requirements.txt (line 6)) (0.33.1)\n",
      "Requirement already satisfied: astor>=0.6.0 in /usr/local/lib/python3.7/site-packages (from tensorflow->seldon-core->-r requirements.txt (line 6)) (0.8.0)\n",
      "Requirement already satisfied: itsdangerous>=0.24 in /usr/local/lib/python3.7/site-packages (from flask->seldon-core->-r requirements.txt (line 6)) (1.1.0)\n",
      "Requirement already satisfied: Jinja2>=2.10 in /usr/local/lib/python3.7/site-packages (from flask->seldon-core->-r requirements.txt (line 6)) (2.10.1)\n",
      "Requirement already satisfied: click>=5.1 in /usr/local/lib/python3.7/site-packages (from flask->seldon-core->-r requirements.txt (line 6)) (7.0)\n",
      "Requirement already satisfied: Werkzeug>=0.14 in /usr/local/lib/python3.7/site-packages (from flask->seldon-core->-r requirements.txt (line 6)) (0.15.4)\n",
      "Requirement already satisfied: chardet<3.1.0,>=3.0.2 in /usr/local/lib/python3.7/site-packages (from requests->seldon-core->-r requirements.txt (line 6)) (3.0.4)\n",
      "Requirement already satisfied: idna<2.9,>=2.5 in /usr/local/lib/python3.7/site-packages (from requests->seldon-core->-r requirements.txt (line 6)) (2.8)\n",
      "Requirement already satisfied: urllib3!=1.25.0,!=1.25.1,<1.26,>=1.21.1 in /usr/local/lib/python3.7/site-packages (from requests->seldon-core->-r requirements.txt (line 6)) (1.25.3)\n",
      "Requirement already satisfied: certifi>=2017.4.17 in /usr/local/lib/python3.7/site-packages (from requests->seldon-core->-r requirements.txt (line 6)) (2019.3.9)\n",
      "Requirement already satisfied: mock>=2.0.0 in /usr/local/lib/python3.7/site-packages (from tensorflow-estimator<1.14.0rc0,>=1.13.0->tensorflow->seldon-core->-r requirements.txt (line 6)) (3.0.5)\n",
      "Requirement already satisfied: h5py in /usr/local/lib/python3.7/site-packages (from keras-applications>=1.0.6->tensorflow->seldon-core->-r requirements.txt (line 6)) (2.9.0)\n",
      "Requirement already satisfied: markdown>=2.6.8 in /usr/local/lib/python3.7/site-packages (from tensorboard<1.14.0,>=1.13.0->tensorflow->seldon-core->-r requirements.txt (line 6)) (3.1.1)\n",
      "Requirement already satisfied: MarkupSafe>=0.23 in /usr/local/lib/python3.7/site-packages (from Jinja2>=2.10->flask->seldon-core->-r requirements.txt (line 6)) (1.1.1)\n",
      "[16:17:20] WARNING: /workspace/src/objective/regression_obj.cu:152: reg:linear is now deprecated in favor of reg:squarederror.\n",
      "[0]\tvalidation_0-rmse:177514\n",
      "Will train until validation_0-rmse hasn't improved in 40 rounds.\n",
      "[1]\tvalidation_0-rmse:161858\n",
      "[2]\tvalidation_0-rmse:147237\n",
      "[3]\tvalidation_0-rmse:134132\n",
      "[4]\tvalidation_0-rmse:122224\n",
      "[5]\tvalidation_0-rmse:111538\n",
      "[6]\tvalidation_0-rmse:102142\n",
      "[7]\tvalidation_0-rmse:93392.3\n",
      "[8]\tvalidation_0-rmse:85824.6\n",
      "[9]\tvalidation_0-rmse:79667.6\n",
      "[10]\tvalidation_0-rmse:73463.4\n",
      "[11]\tvalidation_0-rmse:68059.4\n",
      "[12]\tvalidation_0-rmse:63350.5\n",
      "[13]\tvalidation_0-rmse:59732.1\n",
      "[14]\tvalidation_0-rmse:56260.7\n",
      "[15]\tvalidation_0-rmse:53392.6\n",
      "[16]\tvalidation_0-rmse:50770.8\n",
      "[17]\tvalidation_0-rmse:48107.8\n",
      "[18]\tvalidation_0-rmse:45923.9\n",
      "[19]\tvalidation_0-rmse:44154.2\n",
      "[20]\tvalidation_0-rmse:42488.1\n",
      "[21]\tvalidation_0-rmse:41263.3\n",
      "[22]\tvalidation_0-rmse:40212.8\n",
      "[23]\tvalidation_0-rmse:39089.1\n",
      "[24]\tvalidation_0-rmse:37691.1\n",
      "[25]\tvalidation_0-rmse:36875.2\n",
      "[26]\tvalidation_0-rmse:36276.2\n",
      "[27]\tvalidation_0-rmse:35444.1\n",
      "[28]\tvalidation_0-rmse:34831.5\n",
      "[29]\tvalidation_0-rmse:34205.4\n",
      "[30]\tvalidation_0-rmse:33831.9\n",
      "[31]\tvalidation_0-rmse:33183.6\n",
      "[32]\tvalidation_0-rmse:33019.4\n",
      "[33]\tvalidation_0-rmse:32680\n",
      "[34]\tvalidation_0-rmse:32438.5\n",
      "[35]\tvalidation_0-rmse:32130.4\n",
      "[36]\tvalidation_0-rmse:31644.2\n",
      "[37]\tvalidation_0-rmse:31248.9\n",
      "[38]\tvalidation_0-rmse:31059.8\n",
      "[39]\tvalidation_0-rmse:30862.4\n",
      "[40]\tvalidation_0-rmse:30754\n",
      "[41]\tvalidation_0-rmse:30561.6\n",
      "[42]\tvalidation_0-rmse:30416.9\n",
      "[43]\tvalidation_0-rmse:30156.4\n",
      "[44]\tvalidation_0-rmse:29852.9\n",
      "[45]\tvalidation_0-rmse:29486.6\n",
      "[46]\tvalidation_0-rmse:29158.8\n",
      "[47]\tvalidation_0-rmse:29017\n",
      "[48]\tvalidation_0-rmse:28973.9\n",
      "[49]\tvalidation_0-rmse:28787.7\n",
      "mean_absolute_error=18173.15\n",
      "Model export success: trained_ames_model.dat\n",
      "Best RMSE on eval: %.2f with %d rounds 28787.720703 50\n"
     ]
    },
    {
     "name": "stderr",
     "output_type": "stream",
     "text": [
      "Cleaning up job fairing-job-jqktd...\n"
     ]
    },
    {
     "data": {
      "text/plain": [
       "'fairing-job-jqktd'"
      ]
     },
     "execution_count": 23,
     "metadata": {},
     "output_type": "execute_result"
    }
   ],
   "source": [
    "from fairing import TrainJob\n",
    "#from fairing.backends import KubeflowGKEBackend\n",
    "from fairing.backends import KubeflowBackend\n",
    "train_job = TrainJob(HousingServe, BASE_IMAGE, input_files=['ames_dataset/train.csv', \"requirements.txt\"],\n",
    "                     docker_registry=DOCKER_REGISTRY, backend=KubeflowBackend())\n",
    "train_job.submit()"
   ]
  },
  {
   "cell_type": "markdown",
   "metadata": {},
   "source": [
    "## Train an XGBoost model remotely on Kubeflow\n",
    "\n",
    "Import the `TrainJob` and `KubeflowGKEBackend` classes. Kubeflow Fairing packages the `HousingServe` class, the training data, and the training job's software prerequisites as a Docker image. Then Kubeflow Fairing deploys and runs the training job on Kubeflow."
   ]
  },
  {
   "cell_type": "markdown",
   "metadata": {},
   "source": [
    "## Train an XGBoost model remotely on Cloud ML Engine\n",
    "\n",
    "Import the `TrainJob` and `GCPManagedBackend` classes. Kubeflow Fairing packages the `HousingServe` class, the training data, and the training job's software prerequisites as a Docker image. Then Kubeflow Fairing deploys and runs the training job on Cloud ML Engine."
   ]
  },
  {
   "cell_type": "code",
   "execution_count": null,
   "metadata": {
    "scrolled": true
   },
   "outputs": [],
   "source": [
    "from fairing import TrainJob\n",
    "from fairing.backends import GCPManagedBackend\n",
    "train_job = TrainJob(HousingServe, BASE_IMAGE, input_files=['ames_dataset/train.csv', \"requirements.txt\"],\n",
    "                     docker_registry=DOCKER_REGISTRY, backend=GCPManagedBackend())\n",
    "train_job.submit()"
   ]
  },
  {
   "cell_type": "markdown",
   "metadata": {},
   "source": [
    "## Deploy the trained model to Kubeflow for predictions\n",
    "\n",
    "Import the `PredictionEndpoint` and `KubeflowGKEBackend` classes. Kubeflow Fairing packages the `HousingServe` class, the trained model, and the prediction endpoint's software prerequisites as a Docker image. Then Kubeflow Fairing deploys and runs the prediction endpoint on Kubeflow."
   ]
  },
  {
   "cell_type": "code",
   "execution_count": null,
   "metadata": {
    "scrolled": false
   },
   "outputs": [
    {
     "name": "stderr",
     "output_type": "stream",
     "text": [
      "Using preprocessor: <class 'fairing.preprocessors.function.FunctionPreProcessor'>\n",
      "Using docker registry: index.docker.io/m1st3rb3an\n",
      "Using builder: <class 'fairing.builders.append.append.AppendBuilder'>\n",
      "Building the docker image.\n",
      "Building image using Append builder...\n",
      "Creating docker context: /tmp/fairing_context_x7p3c6xh\n",
      "/home/jovyan/fairing/fairing/__init__.py already exists in Fairing context, skipping...\n",
      "Loading Docker credentials for repository 'm1st3rb3an/rainers-python:latest'\n",
      "Image successfully built in 1.3173423120006191s.\n",
      "Pushing image index.docker.io/m1st3rb3an/fairing-job:D5C814C0...\n",
      "Loading Docker credentials for repository 'index.docker.io/m1st3rb3an/fairing-job:D5C814C0'\n",
      "Uploading index.docker.io/m1st3rb3an/fairing-job:D5C814C0\n",
      "Layer sha256:e79bb959ec00faf01da52437df4fad4537ec669f60455a38ad583ec2b8f00498 exists, skipping\n",
      "Layer sha256:dbf17696f820c577bbd8ebd88660acd4b7a3068f185a07ae296c32b86a70ad89 exists, skipping\n",
      "Layer sha256:1b2a72d4e03052566e99130108071fc4eca4942c62923e3e5cf19666a23088ef exists, skipping\n",
      "Layer sha256:d4b7902036fe0cefdfe9ccf0404fe13322ecbd552f132be73d3e840f95538838 exists, skipping\n",
      "Layer sha256:35baa7ed73327928bc490420b0f8d70bd1b4717d19584be99a2d068f79e6ecbb exists, skipping\n",
      "Layer sha256:d54db43011fd116b8cb6d9e49e268cee1fa6212f152b30cbfa7f3c4c684427c3 exists, skipping\n",
      "Layer sha256:69d473365bb390367b7a54a3e890ca28c4640a56dfe4f53a0036130c964a1e52 exists, skipping\n",
      "Layer sha256:7d3cdae560215b5913fcb23622a9f98b73109c422da51fff1d9eab3c53f0756b exists, skipping\n",
      "Layer sha256:3dcf628e23cfe54ee406e6da5e3115683672afa60a69ea1e124d6102552247f0 exists, skipping\n",
      "Layer sha256:4bc370953db1f559d31afa0043cd304a675ee7d1770fa1583c9b05a25fc9c793 exists, skipping\n",
      "Layer sha256:8fa685114b189f448abdf2ac5c29bfc376678bc3d8f81670a5b2cb8420ef780f exists, skipping\n",
      "Layer sha256:a288a79001c33510fb7a2014a70576bb422f5a210526aa631d906446472b14f2 exists, skipping\n",
      "Layer sha256:7dc3a6a0e509ba4468dafa767116859fcfe1bfd8ad9101ec73691fbd6e1d314a exists, skipping\n",
      "Layer sha256:20d661aaeff06d22174994e949365c9e2bfde7890ecabddab8aa6360f1c58f2b pushed.\n",
      "Layer sha256:13b4a79a2828b2e5ef804a2097e7a2c8c183f61b6ec5a00cd8cc5bd8a68e71c8 pushed.\n",
      "Finished upload of: index.docker.io/m1st3rb3an/fairing-job:D5C814C0\n",
      "Pushed image index.docker.io/m1st3rb3an/fairing-job:D5C814C0 in 4.055461406000177s.\n",
      "Deploying the endpoint.\n"
     ]
    },
    {
     "name": "stdout",
     "output_type": "stream",
     "text": [
      "Waiting for prediction endpoint to come up...\n"
     ]
    }
   ],
   "source": [
    "from fairing import PredictionEndpoint\n",
    "from fairing.backends import KubeflowGKEBackend\n",
    "endpoint = PredictionEndpoint(HousingServe, BASE_IMAGE, input_files=['trained_ames_model.dat', \"requirements.txt\"],\n",
    "                              docker_registry=DOCKER_REGISTRY, backend=KubeflowBackend())\n",
    "endpoint.create()"
   ]
  },
  {
   "cell_type": "markdown",
   "metadata": {},
   "source": [
    "## Call the prediction endpoint\n",
    "\n",
    "Create a test dataset, then call the endpoint on Kubeflow for predictions."
   ]
  },
  {
   "cell_type": "code",
   "execution_count": null,
   "metadata": {},
   "outputs": [],
   "source": [
    "(train_X, train_y), (test_X, test_y) = read_input(\"ames_dataset/train.csv\")\n",
    "endpoint.predict_nparray(test_X)\n"
   ]
  },
  {
   "cell_type": "markdown",
   "metadata": {},
   "source": [
    "## Clean up the prediction endpoint\n",
    "\n",
    "Delete the prediction endpoint created by this notebook."
   ]
  },
  {
   "cell_type": "code",
   "execution_count": null,
   "metadata": {},
   "outputs": [],
   "source": [
    "endpoint.delete()"
   ]
  }
 ],
 "metadata": {
  "kernelspec": {
   "display_name": "Python 3",
   "language": "python",
   "name": "python3"
  },
  "language_info": {
   "codemirror_mode": {
    "name": "ipython",
    "version": 3
   },
   "file_extension": ".py",
   "mimetype": "text/x-python",
   "name": "python",
   "nbconvert_exporter": "python",
   "pygments_lexer": "ipython3",
   "version": "3.6.7"
  }
 },
 "nbformat": 4,
 "nbformat_minor": 2
}
