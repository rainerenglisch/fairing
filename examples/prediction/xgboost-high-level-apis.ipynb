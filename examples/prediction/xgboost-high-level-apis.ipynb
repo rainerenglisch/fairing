{
 "cells": [
  {
   "cell_type": "markdown",
   "metadata": {},
   "source": [
    "# Train and deploy on Kubeflow from Notebooks\n",
    "\n",
    "This notebook introduces you to using Kubeflow Fairing to train and deploy a model to Kubeflow on Google Kubernetes Engine (GKE), and Google Cloud ML Engine. This notebook demonstrate how to:\n",
    " \n",
    "* Train an XGBoost model in a local notebook,\n",
    "* Use Kubeflow Fairing to train an XGBoost model remotely on Kubeflow,\n",
    "* Use Kubeflow Fairing to train an XGBoost model remotely on Cloud ML Engine,\n",
    "* Use Kubeflow Fairing to deploy a trained model to Kubeflow, and\n",
    "* Call the deployed endpoint for predictions.\n",
    "\n",
    "To learn more about how to run this notebook locally, see the guide to [training and deploying on GCP from a local notebook][gcp-local-notebook].\n",
    "\n",
    "[gcp-local-notebook]: https://kubeflow.org/docs/fairing/gcp-local-notebook/"
   ]
  },
  {
   "cell_type": "raw",
   "metadata": {},
   "source": [
    "rainer:\n",
    "need a file ~/.docker/config.json with content similar like:\n",
    "{\n",
    "        \"auths\": {\n",
    "                \"index.docker.io\": {\n",
    "                        \"auth\": \"lkdsfldsf\"\n",
    "                },\n",
    "                \"github.com\": {\n",
    "                        \"auth\": \"dfsdfsdfsfw\"\n",
    "                }\n",
    "        },\n",
    "        \"HttpHeaders\": {\n",
    "                \"User-Agent\": \"Docker-Client/18.09.5 (linux)\"\n",
    "        }\n",
    "}"
   ]
  },
  {
   "cell_type": "markdown",
   "metadata": {},
   "source": [
    "## Set up your notebook for training an XGBoost model\n",
    "\n",
    "Import the libraries required to train this model."
   ]
  },
  {
   "cell_type": "code",
   "execution_count": 1,
   "metadata": {},
   "outputs": [
    {
     "name": "stdout",
     "output_type": "stream",
     "text": [
      "['/home/jovyan/fairing', '/opt/conda/lib/python36.zip', '/opt/conda/lib/python3.6', '/opt/conda/lib/python3.6/lib-dynload', '', '/opt/conda/lib/python3.6/site-packages', '/opt/conda/lib/python3.6/site-packages/IPython/extensions', '/home/jovyan/.ipython']\n"
     ]
    }
   ],
   "source": [
    "import sys\n",
    "sys.path.insert(0,\"/home/jovyan/fairing\")\n",
    "print(sys.path)"
   ]
  },
  {
   "cell_type": "code",
   "execution_count": 2,
   "metadata": {},
   "outputs": [
    {
     "name": "stdout",
     "output_type": "stream",
     "text": [
      "Requirement already satisfied: pandas in /opt/conda/lib/python3.6/site-packages (0.24.2)\n",
      "Requirement already satisfied: python-dateutil>=2.5.0 in /opt/conda/lib/python3.6/site-packages (from pandas) (2.8.0)\n",
      "Requirement already satisfied: numpy>=1.12.0 in /opt/conda/lib/python3.6/site-packages (from pandas) (1.16.2)\n",
      "Requirement already satisfied: pytz>=2011k in /opt/conda/lib/python3.6/site-packages (from pandas) (2018.9)\n",
      "Requirement already satisfied: six>=1.5 in /opt/conda/lib/python3.6/site-packages (from python-dateutil>=2.5.0->pandas) (1.12.0)\n",
      "Requirement already satisfied: joblib in /opt/conda/lib/python3.6/site-packages (0.13.2)\n",
      "Requirement already satisfied: sklearn in /opt/conda/lib/python3.6/site-packages (0.0)\n",
      "Requirement already satisfied: scikit-learn in /opt/conda/lib/python3.6/site-packages (from sklearn) (0.20.3)\n",
      "Requirement already satisfied: scipy>=0.13.3 in /opt/conda/lib/python3.6/site-packages (from scikit-learn->sklearn) (1.2.1)\n",
      "Requirement already satisfied: numpy>=1.8.2 in /opt/conda/lib/python3.6/site-packages (from scikit-learn->sklearn) (1.16.2)\n"
     ]
    }
   ],
   "source": [
    "!pip3 install pandas \n",
    "!pip3 install joblib\n",
    "!pip3 install sklearn"
   ]
  },
  {
   "cell_type": "code",
   "execution_count": 3,
   "metadata": {},
   "outputs": [],
   "source": [
    "import argparse\n",
    "import logging\n",
    "import joblib\n",
    "import sys\n",
    "import pandas as pd\n",
    "from sklearn.metrics import mean_absolute_error\n",
    "from sklearn.model_selection import train_test_split\n",
    "from sklearn.impute import SimpleImputer\n",
    "from xgboost import XGBRegressor"
   ]
  },
  {
   "cell_type": "code",
   "execution_count": 4,
   "metadata": {},
   "outputs": [],
   "source": [
    "logging.basicConfig(format='%(message)s')\n",
    "logging.getLogger().setLevel(logging.DEBUG)"
   ]
  },
  {
   "cell_type": "markdown",
   "metadata": {},
   "source": [
    "Define a function to split the input file into training and testing datasets."
   ]
  },
  {
   "cell_type": "code",
   "execution_count": 5,
   "metadata": {},
   "outputs": [],
   "source": [
    "def read_input(file_name, test_size=0.25):\n",
    "    \"\"\"Read input data and split it into train and test.\"\"\"\n",
    "    data = pd.read_csv(file_name)\n",
    "    data.dropna(axis=0, subset=['SalePrice'], inplace=True)\n",
    "\n",
    "    y = data.SalePrice\n",
    "    X = data.drop(['SalePrice'], axis=1).select_dtypes(exclude=['object'])\n",
    "\n",
    "    train_X, test_X, train_y, test_y = train_test_split(X.values,\n",
    "                                                      y.values,\n",
    "                                                      test_size=test_size,\n",
    "                                                      shuffle=False)\n",
    "\n",
    "    imputer = SimpleImputer()\n",
    "    train_X = imputer.fit_transform(train_X)\n",
    "    test_X = imputer.transform(test_X)\n",
    "\n",
    "    return (train_X, train_y), (test_X, test_y)"
   ]
  },
  {
   "cell_type": "markdown",
   "metadata": {},
   "source": [
    "Define functions to train, evaluate, and save the trained model."
   ]
  },
  {
   "cell_type": "code",
   "execution_count": 6,
   "metadata": {},
   "outputs": [],
   "source": [
    "def train_model(train_X,\n",
    "                train_y,\n",
    "                test_X,\n",
    "                test_y,\n",
    "                n_estimators,\n",
    "                learning_rate):\n",
    "    \"\"\"Train the model using XGBRegressor.\"\"\"\n",
    "    model = XGBRegressor(n_estimators=n_estimators, learning_rate=learning_rate)\n",
    "\n",
    "    model.fit(train_X,\n",
    "            train_y,\n",
    "            early_stopping_rounds=40,\n",
    "            eval_set=[(test_X, test_y)])\n",
    "\n",
    "    print(\"Best RMSE on eval: %.2f with %d rounds\",\n",
    "               model.best_score,\n",
    "               model.best_iteration+1)\n",
    "    return model\n",
    "\n",
    "def eval_model(model, test_X, test_y):\n",
    "    \"\"\"Evaluate the model performance.\"\"\"\n",
    "    predictions = model.predict(test_X)\n",
    "    logging.info(\"mean_absolute_error=%.2f\", mean_absolute_error(predictions, test_y))\n",
    "\n",
    "def save_model(model, model_file):\n",
    "    \"\"\"Save XGBoost model for serving.\"\"\"\n",
    "    joblib.dump(model, model_file)\n",
    "    logging.info(\"Model export success: %s\", model_file)"
   ]
  },
  {
   "cell_type": "markdown",
   "metadata": {},
   "source": [
    "Define a class for your model, with methods for training and prediction."
   ]
  },
  {
   "cell_type": "code",
   "execution_count": 7,
   "metadata": {},
   "outputs": [],
   "source": [
    "class HousingServe(object):\n",
    "    \n",
    "    def __init__(self):\n",
    "\n",
    "        self.train_input = \"ames_dataset/train.csv\"\n",
    "        self.n_estimators = 50\n",
    "        self.learning_rate = 0.1\n",
    "        self.model_file = \"trained_ames_model.dat\"\n",
    "        self.model = None\n",
    "        \n",
    "\n",
    "    def train(self):\n",
    "        (train_X, train_y), (test_X, test_y) = read_input(self.train_input)\n",
    "        model = train_model(train_X,\n",
    "                          train_y,\n",
    "                          test_X,\n",
    "                          test_y,\n",
    "                          self.n_estimators,\n",
    "                          self.learning_rate)\n",
    "\n",
    "        eval_model(model, test_X, test_y)\n",
    "        save_model(model, self.model_file)\n",
    "\n",
    "    def predict(self, X, feature_names):\n",
    "        \"\"\"Predict using the model for given ndarray.\"\"\"\n",
    "        if not self.model:\n",
    "            self.model = joblib.load(self.model_file)\n",
    "        # Do any preprocessing\n",
    "        prediction = self.model.predict(data=X)\n",
    "        # Do any postprocessing\n",
    "        #rainer start\n",
    "        #return [[prediction.item(0), prediction.item(0)]]\n",
    "        return prediction.tolist()\n",
    "        #rainer end"
   ]
  },
  {
   "cell_type": "markdown",
   "metadata": {},
   "source": [
    "## Train an XGBoost model in a notebook\n",
    "\n",
    "Call `HousingServe().train()` to train your model, and then evaluate and save your trained model."
   ]
  },
  {
   "cell_type": "code",
   "execution_count": 8,
   "metadata": {},
   "outputs": [
    {
     "name": "stdout",
     "output_type": "stream",
     "text": [
      "[0]\tvalidation_0-rmse:177514\n",
      "Will train until validation_0-rmse hasn't improved in 40 rounds.\n",
      "[1]\tvalidation_0-rmse:161858\n",
      "[2]\tvalidation_0-rmse:147237\n",
      "[3]\tvalidation_0-rmse:134132\n",
      "[4]\tvalidation_0-rmse:122224\n",
      "[5]\tvalidation_0-rmse:111538\n",
      "[6]\tvalidation_0-rmse:102142\n",
      "[7]\tvalidation_0-rmse:93392.3\n",
      "[8]\tvalidation_0-rmse:85824.6\n",
      "[9]\tvalidation_0-rmse:79667.6\n",
      "[10]\tvalidation_0-rmse:73463.4\n",
      "[11]\tvalidation_0-rmse:68059.4\n",
      "[12]\tvalidation_0-rmse:63350.5\n",
      "[13]\tvalidation_0-rmse:59732.1\n",
      "[14]\tvalidation_0-rmse:56260.7\n",
      "[15]\tvalidation_0-rmse:53392.6\n",
      "[16]\tvalidation_0-rmse:50770.8\n",
      "[17]\tvalidation_0-rmse:48107.8\n",
      "[18]\tvalidation_0-rmse:45923.9\n",
      "[19]\tvalidation_0-rmse:44154.2\n",
      "[20]\tvalidation_0-rmse:42488.1\n",
      "[21]\tvalidation_0-rmse:41263.3\n",
      "[22]\tvalidation_0-rmse:40212.8\n",
      "[23]\tvalidation_0-rmse:39089.1\n",
      "[24]\tvalidation_0-rmse:37691.1\n",
      "[25]\tvalidation_0-rmse:36875.2\n",
      "[26]\tvalidation_0-rmse:36276.2\n",
      "[27]\tvalidation_0-rmse:35444.1\n",
      "[28]\tvalidation_0-rmse:34831.5\n",
      "[29]\tvalidation_0-rmse:34205.4\n",
      "[30]\tvalidation_0-rmse:33831.9\n",
      "[31]\tvalidation_0-rmse:33183.6\n",
      "[32]\tvalidation_0-rmse:33019.4\n",
      "[33]\tvalidation_0-rmse:32680\n",
      "[34]\tvalidation_0-rmse:32438.5\n",
      "[35]\tvalidation_0-rmse:32130.4\n",
      "[36]\tvalidation_0-rmse:31644.2\n",
      "[37]\tvalidation_0-rmse:31248.9\n",
      "[38]\tvalidation_0-rmse:31059.8\n",
      "[39]\tvalidation_0-rmse:30862.4\n",
      "[40]\tvalidation_0-rmse:30754\n",
      "[41]\tvalidation_0-rmse:30561.6\n",
      "[42]\tvalidation_0-rmse:30416.9\n",
      "[43]\tvalidation_0-rmse:30156.4\n",
      "[44]\tvalidation_0-rmse:29852.9\n",
      "[45]\tvalidation_0-rmse:29486.6\n",
      "[46]\tvalidation_0-rmse:29158.8\n",
      "[47]\tvalidation_0-rmse:29017\n",
      "[48]\tvalidation_0-rmse:28973.9\n",
      "[49]\tvalidation_0-rmse:28787.7\n"
     ]
    },
    {
     "name": "stderr",
     "output_type": "stream",
     "text": [
      "mean_absolute_error=18173.15\n",
      "Model export success: trained_ames_model.dat\n"
     ]
    },
    {
     "name": "stdout",
     "output_type": "stream",
     "text": [
      "Best RMSE on eval: %.2f with %d rounds 28787.720703 50\n"
     ]
    }
   ],
   "source": [
    "HousingServe().train()"
   ]
  },
  {
   "cell_type": "markdown",
   "metadata": {},
   "source": [
    "## Set up Kubeflow Fairing for training and predictions on GCP\n",
    "\n",
    "Import the `fairing` library and configure the GCP environment that your training or prediction job will run in."
   ]
  },
  {
   "cell_type": "code",
   "execution_count": 9,
   "metadata": {},
   "outputs": [],
   "source": [
    "import os\n",
    "import fairing\n",
    "\n",
    "# Setting up google container repositories (GCR) for storing output containers\n",
    "# You can use any docker container registry istead of GCR\n",
    "#GCP_PROJECT = fairing.cloud.gcp.guess_project_name()\n",
    "#DOCKER_REGISTRY = 'mtr.external.otc.telekomcloud.com/rainer_englisch/kubeflow_test1'\n",
    "DOCKER_REGISTRY = 'index.docker.io/m1st3rb3an'\n",
    "PY_VERSION = \".\".join([str(x) for x in sys.version_info[0:3]])\n",
    "BASE_IMAGE = 'library/python:{}'.format(PY_VERSION)\n",
    "BASE_IMAGE = 'm1st3rb3an/rainers-python:latest'"
   ]
  },
  {
   "cell_type": "code",
   "execution_count": 10,
   "metadata": {},
   "outputs": [
    {
     "name": "stderr",
     "output_type": "stream",
     "text": [
      "Using preprocessor: <class 'fairing.preprocessors.function.FunctionPreProcessor'>\n",
      "Using docker registry: index.docker.io/m1st3rb3an\n",
      "Using builder: <class 'fairing.builders.append.append.AppendBuilder'>\n",
      "Building the docker image.\n",
      "Building image using Append builder...\n",
      "Creating docker context: /tmp/fairing_context_kvzubq_l\n",
      "/home/jovyan/fairing/fairing/__init__.py already exists in Fairing context, skipping...\n",
      "Loading Docker credentials for repository 'm1st3rb3an/rainers-python:latest'\n",
      "Image successfully built in 1.6732040740007506s.\n",
      "Pushing image index.docker.io/m1st3rb3an/fairing-job:772FBC5A...\n",
      "Loading Docker credentials for repository 'index.docker.io/m1st3rb3an/fairing-job:772FBC5A'\n",
      "Uploading index.docker.io/m1st3rb3an/fairing-job:772FBC5A\n",
      "Layer sha256:7dc3a6a0e509ba4468dafa767116859fcfe1bfd8ad9101ec73691fbd6e1d314a exists, skipping\n",
      "Layer sha256:4bc370953db1f559d31afa0043cd304a675ee7d1770fa1583c9b05a25fc9c793 exists, skipping\n",
      "Layer sha256:d54db43011fd116b8cb6d9e49e268cee1fa6212f152b30cbfa7f3c4c684427c3 exists, skipping\n",
      "Layer sha256:3dcf628e23cfe54ee406e6da5e3115683672afa60a69ea1e124d6102552247f0 exists, skipping\n",
      "Layer sha256:8fa685114b189f448abdf2ac5c29bfc376678bc3d8f81670a5b2cb8420ef780f exists, skipping\n",
      "Layer sha256:a288a79001c33510fb7a2014a70576bb422f5a210526aa631d906446472b14f2 exists, skipping\n",
      "Layer sha256:69d473365bb390367b7a54a3e890ca28c4640a56dfe4f53a0036130c964a1e52 exists, skipping\n",
      "Layer sha256:d4b7902036fe0cefdfe9ccf0404fe13322ecbd552f132be73d3e840f95538838 exists, skipping\n",
      "Layer sha256:e79bb959ec00faf01da52437df4fad4537ec669f60455a38ad583ec2b8f00498 exists, skipping\n",
      "Layer sha256:35baa7ed73327928bc490420b0f8d70bd1b4717d19584be99a2d068f79e6ecbb exists, skipping\n",
      "Layer sha256:dbf17696f820c577bbd8ebd88660acd4b7a3068f185a07ae296c32b86a70ad89 exists, skipping\n",
      "Layer sha256:7d3cdae560215b5913fcb23622a9f98b73109c422da51fff1d9eab3c53f0756b exists, skipping\n",
      "Layer sha256:1b2a72d4e03052566e99130108071fc4eca4942c62923e3e5cf19666a23088ef exists, skipping\n",
      "Layer sha256:1d8cb113dc5afd516755cfd559426da4e8b096d8c20df309c83108f2d33e3044 pushed.\n",
      "Layer sha256:9be4032adada863e37c9f5013a529cd6c08fc1250a5ebf341ca10ffb71554245 pushed.\n",
      "Finished upload of: index.docker.io/m1st3rb3an/fairing-job:772FBC5A\n",
      "Pushed image index.docker.io/m1st3rb3an/fairing-job:772FBC5A in 4.043637082000714s.\n",
      "Training job fairing-job-x4mnk launched.\n",
      "Waiting for fairing-job-x4mnk-9krqk to start...\n",
      "Waiting for fairing-job-x4mnk-9krqk to start...\n",
      "Waiting for fairing-job-x4mnk-9krqk to start...\n",
      "Pod started running False\n",
      "Cleaning up job fairing-job-x4mnk...\n"
     ]
    },
    {
     "name": "stdout",
     "output_type": "stream",
     "text": [
      "[15:33:42] WARNING: /workspace/src/objective/regression_obj.cu:152: reg:linear is now deprecated in favor of reg:squarederror.\n",
      "[0]\tvalidation_0-rmse:177514\n",
      "Will train until validation_0-rmse hasn't improved in 40 rounds.\n",
      "[1]\tvalidation_0-rmse:161858\n",
      "[2]\tvalidation_0-rmse:147237\n",
      "[3]\tvalidation_0-rmse:134132\n",
      "[4]\tvalidation_0-rmse:122224\n",
      "[5]\tvalidation_0-rmse:111538\n",
      "[6]\tvalidation_0-rmse:102142\n",
      "[7]\tvalidation_0-rmse:93392.3\n",
      "[8]\tvalidation_0-rmse:85824.6\n",
      "[9]\tvalidation_0-rmse:79667.6\n",
      "[10]\tvalidation_0-rmse:73463.4\n",
      "[11]\tvalidation_0-rmse:68059.4\n",
      "[12]\tvalidation_0-rmse:63350.5\n",
      "[13]\tvalidation_0-rmse:59732.1\n",
      "[14]\tvalidation_0-rmse:56260.7\n",
      "[15]\tvalidation_0-rmse:53392.6\n",
      "[16]\tvalidation_0-rmse:50770.8\n",
      "[17]\tvalidation_0-rmse:48107.8\n",
      "[18]\tvalidation_0-rmse:45923.9\n",
      "[19]\tvalidation_0-rmse:44154.2\n",
      "[20]\tvalidation_0-rmse:42488.1\n",
      "[21]\tvalidation_0-rmse:41263.3\n",
      "[22]\tvalidation_0-rmse:40212.8\n",
      "[23]\tvalidation_0-rmse:39089.1\n",
      "[24]\tvalidation_0-rmse:37691.1\n",
      "[25]\tvalidation_0-rmse:36875.2\n",
      "[26]\tvalidation_0-rmse:36276.2\n",
      "[27]\tvalidation_0-rmse:35444.1\n",
      "[28]\tvalidation_0-rmse:34831.5\n",
      "[29]\tvalidation_0-rmse:34205.4\n",
      "[30]\tvalidation_0-rmse:33831.9\n",
      "[31]\tvalidation_0-rmse:33183.6\n",
      "[32]\tvalidation_0-rmse:33019.4\n",
      "[33]\tvalidation_0-rmse:32680\n",
      "[34]\tvalidation_0-rmse:32438.5\n",
      "[35]\tvalidation_0-rmse:32130.4\n",
      "[36]\tvalidation_0-rmse:31644.2\n",
      "[37]\tvalidation_0-rmse:31248.9\n",
      "[38]\tvalidation_0-rmse:31059.8\n",
      "[39]\tvalidation_0-rmse:30862.4\n",
      "[40]\tvalidation_0-rmse:30754\n",
      "[41]\tvalidation_0-rmse:30561.6\n",
      "[42]\tvalidation_0-rmse:30416.9\n",
      "[43]\tvalidation_0-rmse:30156.4\n",
      "[44]\tvalidation_0-rmse:29852.9\n",
      "[45]\tvalidation_0-rmse:29486.6\n",
      "[46]\tvalidation_0-rmse:29158.8\n",
      "[47]\tvalidation_0-rmse:29017\n",
      "[48]\tvalidation_0-rmse:28973.9\n",
      "[49]\tvalidation_0-rmse:28787.7\n",
      "mean_absolute_error=18173.15\n",
      "Model export success: trained_ames_model.dat\n",
      "Best RMSE on eval: %.2f with %d rounds 28787.720703 50\n"
     ]
    },
    {
     "data": {
      "text/plain": [
       "'fairing-job-x4mnk'"
      ]
     },
     "execution_count": 10,
     "metadata": {},
     "output_type": "execute_result"
    }
   ],
   "source": [
    "from fairing import TrainJob\n",
    "#from fairing.backends import KubeflowGKEBackend\n",
    "from fairing.backends import KubeflowBackend\n",
    "train_job = TrainJob(HousingServe, BASE_IMAGE, input_files=['ames_dataset/train.csv', \"requirements.txt\"],\n",
    "                     docker_registry=DOCKER_REGISTRY, backend=KubeflowBackend())\n",
    "train_job.submit()"
   ]
  },
  {
   "cell_type": "markdown",
   "metadata": {},
   "source": [
    "## Train an XGBoost model remotely on Kubeflow\n",
    "\n",
    "Import the `TrainJob` and `KubeflowGKEBackend` classes. Kubeflow Fairing packages the `HousingServe` class, the training data, and the training job's software prerequisites as a Docker image. Then Kubeflow Fairing deploys and runs the training job on Kubeflow."
   ]
  },
  {
   "cell_type": "markdown",
   "metadata": {},
   "source": [
    "## Train an XGBoost model remotely on Cloud ML Engine\n",
    "\n",
    "Import the `TrainJob` and `GCPManagedBackend` classes. Kubeflow Fairing packages the `HousingServe` class, the training data, and the training job's software prerequisites as a Docker image. Then Kubeflow Fairing deploys and runs the training job on Cloud ML Engine."
   ]
  },
  {
   "cell_type": "raw",
   "metadata": {},
   "source": [
    "from fairing import TrainJob\n",
    "from fairing.backends import GCPManagedBackend\n",
    "train_job = TrainJob(HousingServe, BASE_IMAGE, input_files=['ames_dataset/train.csv', \"requirements.txt\"],\n",
    "                     docker_registry=DOCKER_REGISTRY, backend=GCPManagedBackend())\n",
    "train_job.submit()"
   ]
  },
  {
   "cell_type": "markdown",
   "metadata": {},
   "source": [
    "## Deploy the trained model to Kubeflow for predictions\n",
    "\n",
    "Import the `PredictionEndpoint` and `KubeflowGKEBackend` classes. Kubeflow Fairing packages the `HousingServe` class, the trained model, and the prediction endpoint's software prerequisites as a Docker image. Then Kubeflow Fairing deploys and runs the prediction endpoint on Kubeflow."
   ]
  },
  {
   "cell_type": "code",
   "execution_count": 11,
   "metadata": {},
   "outputs": [
    {
     "name": "stderr",
     "output_type": "stream",
     "text": [
      "Using preprocessor: <class 'fairing.preprocessors.function.FunctionPreProcessor'>\n",
      "Using docker registry: index.docker.io/m1st3rb3an\n",
      "Using builder: <class 'fairing.builders.append.append.AppendBuilder'>\n",
      "Building the docker image.\n",
      "Building image using Append builder...\n",
      "Creating docker context: /tmp/fairing_context_8poq10dc\n",
      "/home/jovyan/fairing/fairing/__init__.py already exists in Fairing context, skipping...\n",
      "Loading Docker credentials for repository 'm1st3rb3an/rainers-python:latest'\n",
      "Image successfully built in 1.6089806579984725s.\n",
      "Pushing image index.docker.io/m1st3rb3an/fairing-job:F889148A...\n",
      "Loading Docker credentials for repository 'index.docker.io/m1st3rb3an/fairing-job:F889148A'\n",
      "Uploading index.docker.io/m1st3rb3an/fairing-job:F889148A\n",
      "Layer sha256:7dc3a6a0e509ba4468dafa767116859fcfe1bfd8ad9101ec73691fbd6e1d314a exists, skipping\n",
      "Layer sha256:4bc370953db1f559d31afa0043cd304a675ee7d1770fa1583c9b05a25fc9c793 exists, skipping\n",
      "Layer sha256:d4b7902036fe0cefdfe9ccf0404fe13322ecbd552f132be73d3e840f95538838 exists, skipping\n",
      "Layer sha256:3dcf628e23cfe54ee406e6da5e3115683672afa60a69ea1e124d6102552247f0 exists, skipping\n",
      "Layer sha256:a288a79001c33510fb7a2014a70576bb422f5a210526aa631d906446472b14f2 exists, skipping\n",
      "Layer sha256:69d473365bb390367b7a54a3e890ca28c4640a56dfe4f53a0036130c964a1e52 exists, skipping\n",
      "Layer sha256:8fa685114b189f448abdf2ac5c29bfc376678bc3d8f81670a5b2cb8420ef780f exists, skipping\n",
      "Layer sha256:d54db43011fd116b8cb6d9e49e268cee1fa6212f152b30cbfa7f3c4c684427c3 exists, skipping\n",
      "Layer sha256:e79bb959ec00faf01da52437df4fad4537ec669f60455a38ad583ec2b8f00498 exists, skipping\n",
      "Layer sha256:dbf17696f820c577bbd8ebd88660acd4b7a3068f185a07ae296c32b86a70ad89 exists, skipping\n",
      "Layer sha256:1b2a72d4e03052566e99130108071fc4eca4942c62923e3e5cf19666a23088ef exists, skipping\n",
      "Layer sha256:35baa7ed73327928bc490420b0f8d70bd1b4717d19584be99a2d068f79e6ecbb exists, skipping\n",
      "Layer sha256:7d3cdae560215b5913fcb23622a9f98b73109c422da51fff1d9eab3c53f0756b exists, skipping\n",
      "Layer sha256:a5bc81ad7cfdd7bcb827d8949012aa16333e10e1cfa0567b54b4c2a03bfc050d pushed.\n",
      "Layer sha256:35b9997453119c54297b9067e5d54d2752d3a4565c7f70426ac4446df7ceffca pushed.\n",
      "Finished upload of: index.docker.io/m1st3rb3an/fairing-job:F889148A\n",
      "Pushed image index.docker.io/m1st3rb3an/fairing-job:F889148A in 3.9771803760013427s.\n",
      "Deploying the endpoint.\n",
      "service specification: {'api_version': 'v1',\n",
      " 'kind': 'Service',\n",
      " 'metadata': {'annotations': None,\n",
      "              'cluster_name': None,\n",
      "              'creation_timestamp': datetime.datetime(2019, 6, 9, 15, 33, 48, tzinfo=tzlocal()),\n",
      "              'deletion_grace_period_seconds': None,\n",
      "              'deletion_timestamp': None,\n",
      "              'finalizers': None,\n",
      "              'generate_name': 'fairing-service-',\n",
      "              'generation': None,\n",
      "              'initializers': None,\n",
      "              'labels': {'fairing-deployer': 'serving',\n",
      "                         'fairing-id': 'f9987c0a-8acb-11e9-b311-0242ac11002b'},\n",
      "              'name': 'fairing-service-b8b42',\n",
      "              'namespace': 'kubeflow',\n",
      "              'owner_references': None,\n",
      "              'resource_version': '82797',\n",
      "              'self_link': '/api/v1/namespaces/kubeflow/services/fairing-service-b8b42',\n",
      "              'uid': 'f99f2805-8acb-11e9-b481-080027085d5a'},\n",
      " 'spec': {'cluster_ip': '10.111.235.107',\n",
      "          'external_i_ps': None,\n",
      "          'external_name': None,\n",
      "          'external_traffic_policy': None,\n",
      "          'health_check_node_port': None,\n",
      "          'load_balancer_ip': None,\n",
      "          'load_balancer_source_ranges': None,\n",
      "          'ports': [{'name': 'serving',\n",
      "                     'node_port': None,\n",
      "                     'port': 5000,\n",
      "                     'protocol': 'TCP',\n",
      "                     'target_port': 5000}],\n",
      "          'publish_not_ready_addresses': None,\n",
      "          'selector': {'fairing-deployer': 'serving',\n",
      "                       'fairing-id': 'f9987c0a-8acb-11e9-b311-0242ac11002b'},\n",
      "          'session_affinity': 'None',\n",
      "          'session_affinity_config': None,\n",
      "          'type': 'ClusterIP'},\n",
      " 'status': {'load_balancer': {'ingress': None}}}\n",
      "Cluster endpoint: http://10.111.235.107:5000\n",
      "Prediction endpoint: http://10.111.235.107:5000\n"
     ]
    }
   ],
   "source": [
    "from fairing import PredictionEndpoint\n",
    "from fairing.backends import KubeflowBackend\n",
    "endpoint = PredictionEndpoint(HousingServe, BASE_IMAGE, input_files=['trained_ames_model.dat', \"requirements.txt\"],\n",
    "                              docker_registry=DOCKER_REGISTRY, backend=KubeflowBackend())\n",
    "endpoint.create()"
   ]
  },
  {
   "cell_type": "markdown",
   "metadata": {},
   "source": [
    "## Call the prediction endpoint\n",
    "\n",
    "Create a test dataset, then call the endpoint on Kubeflow for predictions."
   ]
  },
  {
   "cell_type": "code",
   "execution_count": 12,
   "metadata": {},
   "outputs": [],
   "source": [
    "import requests\n",
    "import json"
   ]
  },
  {
   "cell_type": "code",
   "execution_count": 13,
   "metadata": {},
   "outputs": [
    {
     "name": "stdout",
     "output_type": "stream",
     "text": [
      "train_X.shape: (1095, 37)\n",
      "train_y.shape: (1095,)\n",
      "test_X.shape: (365, 37)\n",
      "test_y.shape: (365,)\n"
     ]
    }
   ],
   "source": [
    "(train_X, train_y), (test_X, test_y) = read_input(\"ames_dataset/train.csv\")\n",
    "print(\"train_X.shape: {}\".format(train_X.shape))\n",
    "print(\"train_y.shape: {}\".format(train_y.shape))\n",
    "print(\"test_X.shape: {}\".format(test_X.shape))\n",
    "print(\"test_y.shape: {}\".format(test_y.shape))\n"
   ]
  },
  {
   "cell_type": "code",
   "execution_count": 14,
   "metadata": {},
   "outputs": [
    {
     "data": {
      "text/plain": [
       "[165164.875, 111924.984375, 191548.140625, 104526.6171875, 179303.25]"
      ]
     },
     "execution_count": 14,
     "metadata": {},
     "output_type": "execute_result"
    }
   ],
   "source": [
    "HousingServe().predict(test_X,None)[:5]"
   ]
  },
  {
   "cell_type": "code",
   "execution_count": null,
   "metadata": {},
   "outputs": [],
   "source": []
  },
  {
   "cell_type": "raw",
   "metadata": {},
   "source": [
    "endpoint.predict_nparray(test_X)\n"
   ]
  },
  {
   "cell_type": "markdown",
   "metadata": {},
   "source": [
    "## Clean up the prediction endpoint\n",
    "\n",
    "Delete the prediction endpoint created by this notebook."
   ]
  },
  {
   "cell_type": "code",
   "execution_count": null,
   "metadata": {},
   "outputs": [],
   "source": []
  },
  {
   "cell_type": "code",
   "execution_count": 15,
   "metadata": {},
   "outputs": [],
   "source": [
    "import requests\n",
    "import json"
   ]
  },
  {
   "cell_type": "code",
   "execution_count": 16,
   "metadata": {},
   "outputs": [
    {
     "name": "stdout",
     "output_type": "stream",
     "text": [
      "http://10.111.235.107:5000/predict\n"
     ]
    }
   ],
   "source": [
    "url_prediction = endpoint.url+\"/predict\"\n",
    "print(url_prediction)"
   ]
  },
  {
   "cell_type": "code",
   "execution_count": 17,
   "metadata": {},
   "outputs": [],
   "source": [
    "\n",
    "serialized_data = json.loads('{\"data\":{\"names\":[\"a\",\"b\"],\"tensor\":{\"shape\":[2,2],\"values\":[0,0,1,1]}}}')\n",
    "serialized_data\n",
    "headers = {'content-type': 'application/json'}"
   ]
  },
  {
   "cell_type": "code",
   "execution_count": 18,
   "metadata": {},
   "outputs": [],
   "source": [
    "import numpy as np\n",
    "feature_names = None\n",
    "data = test_X\n",
    "pdata={\n",
    "            \"data\": {\n",
    "                \"names\":feature_names,\n",
    "                \"tensor\": {\n",
    "                    \"shape\": np.asarray(data.shape).tolist(),\n",
    "                    \"values\": data.flatten().tolist(),\n",
    "                },\n",
    "            }\n",
    "        }\n",
    "        \n",
    "serialized_data = json.dumps(pdata)"
   ]
  },
  {
   "cell_type": "code",
   "execution_count": 19,
   "metadata": {},
   "outputs": [
    {
     "name": "stderr",
     "output_type": "stream",
     "text": [
      "PredictionEndpoint.predict_nparray: Start\n",
      "self.url: http://10.111.235.107:5000/predict\n"
     ]
    },
    {
     "name": "stdout",
     "output_type": "stream",
     "text": [
      "HTTPConnectionPool(host='10.111.235.107', port=5000): Max retries exceeded with url: /predict (Caused by ConnectTimeoutError(<urllib3.connection.HTTPConnection object at 0x7f26d62449b0>, 'Connection to 10.111.235.107 timed out. (connect timeout=0.1)'))\n"
     ]
    },
    {
     "name": "stderr",
     "output_type": "stream",
     "text": [
      "PredictionEndpoint.predict_nparray: End\n"
     ]
    },
    {
     "data": {
      "text/plain": [
       "{'data': {'tensor': {'shape': [365],\n",
       "   'values': [165164.875,\n",
       "    111924.984375,\n",
       "    191548.140625,\n",
       "    104526.6171875,\n",
       "    179303.25,\n",
       "    84702.0546875,\n",
       "    118877.984375,\n",
       "    132294.71875,\n",
       "    133606.21875,\n",
       "    107332.8515625,\n",
       "    321764.0,\n",
       "    182190.046875,\n",
       "    230963.40625,\n",
       "    174228.75,\n",
       "    290951.1875,\n",
       "    177461.453125,\n",
       "    200190.75,\n",
       "    122958.15625,\n",
       "    133376.265625,\n",
       "    123258.2734375,\n",
       "    285932.1875,\n",
       "    201018.390625,\n",
       "    133680.75,\n",
       "    130342.6328125,\n",
       "    127097.6015625,\n",
       "    118401.671875,\n",
       "    215022.828125,\n",
       "    84957.3671875,\n",
       "    102413.1953125,\n",
       "    176742.28125,\n",
       "    118672.8125,\n",
       "    209591.78125,\n",
       "    236567.546875,\n",
       "    217784.34375,\n",
       "    122548.890625,\n",
       "    160624.375,\n",
       "    131057.703125,\n",
       "    134156.1875,\n",
       "    249800.1875,\n",
       "    174228.75,\n",
       "    114823.9296875,\n",
       "    129791.625,\n",
       "    98600.8046875,\n",
       "    180586.625,\n",
       "    126388.6328125,\n",
       "    124807.3125,\n",
       "    166880.390625,\n",
       "    355064.84375,\n",
       "    109526.2578125,\n",
       "    94474.359375,\n",
       "    126749.578125,\n",
       "    170985.75,\n",
       "    174361.765625,\n",
       "    138643.71875,\n",
       "    157280.078125,\n",
       "    119259.4453125,\n",
       "    154374.9375,\n",
       "    187144.859375,\n",
       "    122540.9609375,\n",
       "    200533.078125,\n",
       "    181294.203125,\n",
       "    159886.875,\n",
       "    206930.671875,\n",
       "    253135.796875,\n",
       "    181625.515625,\n",
       "    143236.828125,\n",
       "    191254.375,\n",
       "    130490.75,\n",
       "    137577.46875,\n",
       "    170611.625,\n",
       "    207779.203125,\n",
       "    272294.34375,\n",
       "    190662.78125,\n",
       "    205116.796875,\n",
       "    526586.4375,\n",
       "    143837.375,\n",
       "    157149.859375,\n",
       "    165923.203125,\n",
       "    228033.734375,\n",
       "    187172.359375,\n",
       "    338046.84375,\n",
       "    120825.1796875,\n",
       "    126957.6171875,\n",
       "    114072.6796875,\n",
       "    103545.4609375,\n",
       "    259559.96875,\n",
       "    270535.9375,\n",
       "    499964.53125,\n",
       "    135216.421875,\n",
       "    180392.265625,\n",
       "    116077.375,\n",
       "    136770.515625,\n",
       "    286147.78125,\n",
       "    185699.25,\n",
       "    200906.015625,\n",
       "    180145.21875,\n",
       "    192029.4375,\n",
       "    122861.75,\n",
       "    161015.125,\n",
       "    129805.796875,\n",
       "    160490.828125,\n",
       "    236654.921875,\n",
       "    157367.78125,\n",
       "    182491.71875,\n",
       "    151865.34375,\n",
       "    106837.4140625,\n",
       "    198299.59375,\n",
       "    114978.1640625,\n",
       "    202650.546875,\n",
       "    144303.359375,\n",
       "    265236.90625,\n",
       "    119863.796875,\n",
       "    191211.625,\n",
       "    135874.21875,\n",
       "    265681.59375,\n",
       "    189182.453125,\n",
       "    202412.5625,\n",
       "    95642.8515625,\n",
       "    114197.125,\n",
       "    124095.859375,\n",
       "    115767.5703125,\n",
       "    154686.1875,\n",
       "    246418.90625,\n",
       "    83201.3359375,\n",
       "    104709.1640625,\n",
       "    118061.8046875,\n",
       "    123881.734375,\n",
       "    165511.25,\n",
       "    165251.296875,\n",
       "    196617.796875,\n",
       "    119842.203125,\n",
       "    213939.21875,\n",
       "    137361.0,\n",
       "    355497.46875,\n",
       "    147768.5625,\n",
       "    187740.90625,\n",
       "    140174.375,\n",
       "    109986.3984375,\n",
       "    143959.015625,\n",
       "    122649.203125,\n",
       "    126230.9375,\n",
       "    170381.625,\n",
       "    224263.34375,\n",
       "    163157.40625,\n",
       "    233207.96875,\n",
       "    201542.546875,\n",
       "    218514.765625,\n",
       "    174338.796875,\n",
       "    402566.40625,\n",
       "    185948.09375,\n",
       "    201676.234375,\n",
       "    190340.453125,\n",
       "    144720.359375,\n",
       "    170838.96875,\n",
       "    116839.9921875,\n",
       "    236463.09375,\n",
       "    187819.4375,\n",
       "    122607.1015625,\n",
       "    238643.015625,\n",
       "    183409.890625,\n",
       "    129401.6875,\n",
       "    344992.34375,\n",
       "    91297.0625,\n",
       "    181686.9375,\n",
       "    143579.546875,\n",
       "    182349.46875,\n",
       "    131816.59375,\n",
       "    143934.125,\n",
       "    170543.671875,\n",
       "    165721.453125,\n",
       "    169037.125,\n",
       "    174665.015625,\n",
       "    393345.9375,\n",
       "    382654.1875,\n",
       "    139518.453125,\n",
       "    211469.90625,\n",
       "    153919.21875,\n",
       "    128173.8203125,\n",
       "    149318.015625,\n",
       "    124562.1796875,\n",
       "    146217.296875,\n",
       "    160120.15625,\n",
       "    191950.390625,\n",
       "    253913.703125,\n",
       "    86779.6328125,\n",
       "    211258.515625,\n",
       "    197550.078125,\n",
       "    149786.421875,\n",
       "    150849.40625,\n",
       "    202736.046875,\n",
       "    126042.3203125,\n",
       "    153412.015625,\n",
       "    182693.15625,\n",
       "    252337.59375,\n",
       "    258580.8125,\n",
       "    153919.796875,\n",
       "    113842.5,\n",
       "    119477.890625,\n",
       "    175176.3125,\n",
       "    125133.8203125,\n",
       "    131214.25,\n",
       "    141566.9375,\n",
       "    142202.765625,\n",
       "    325560.78125,\n",
       "    145899.25,\n",
       "    226686.515625,\n",
       "    153221.421875,\n",
       "    310388.40625,\n",
       "    214828.921875,\n",
       "    169026.765625,\n",
       "    298564.875,\n",
       "    190652.390625,\n",
       "    150662.875,\n",
       "    129875.3125,\n",
       "    166960.546875,\n",
       "    268421.78125,\n",
       "    204183.984375,\n",
       "    306512.21875,\n",
       "    376249.90625,\n",
       "    122515.9609375,\n",
       "    179472.796875,\n",
       "    257426.953125,\n",
       "    182441.921875,\n",
       "    285327.5625,\n",
       "    114184.4296875,\n",
       "    149094.515625,\n",
       "    89338.7421875,\n",
       "    221026.953125,\n",
       "    87669.328125,\n",
       "    276347.5625,\n",
       "    73050.1875,\n",
       "    94938.9375,\n",
       "    129245.5859375,\n",
       "    208057.734375,\n",
       "    186071.515625,\n",
       "    250905.390625,\n",
       "    125263.6640625,\n",
       "    118943.78125,\n",
       "    115076.1171875,\n",
       "    125058.1328125,\n",
       "    155351.359375,\n",
       "    136482.3125,\n",
       "    75656.9453125,\n",
       "    225892.609375,\n",
       "    124798.796875,\n",
       "    112248.109375,\n",
       "    167185.0,\n",
       "    266368.53125,\n",
       "    163691.75,\n",
       "    180332.703125,\n",
       "    93415.6328125,\n",
       "    240377.3125,\n",
       "    285362.625,\n",
       "    231874.1875,\n",
       "    213714.828125,\n",
       "    175392.5,\n",
       "    164694.75,\n",
       "    122010.8984375,\n",
       "    399697.8125,\n",
       "    243099.640625,\n",
       "    203437.328125,\n",
       "    120459.90625,\n",
       "    156940.03125,\n",
       "    161801.734375,\n",
       "    339759.21875,\n",
       "    172179.015625,\n",
       "    235628.703125,\n",
       "    144755.03125,\n",
       "    165121.3125,\n",
       "    162937.890625,\n",
       "    193458.28125,\n",
       "    210442.25,\n",
       "    138503.546875,\n",
       "    139602.34375,\n",
       "    240917.96875,\n",
       "    108414.078125,\n",
       "    169912.40625,\n",
       "    242630.140625,\n",
       "    393459.78125,\n",
       "    244548.78125,\n",
       "    248732.0,\n",
       "    103162.375,\n",
       "    140660.171875,\n",
       "    106181.9140625,\n",
       "    152492.734375,\n",
       "    80718.6953125,\n",
       "    192380.5625,\n",
       "    158723.59375,\n",
       "    142316.625,\n",
       "    106969.671875,\n",
       "    111894.921875,\n",
       "    248363.53125,\n",
       "    166556.625,\n",
       "    346290.8125,\n",
       "    130606.0859375,\n",
       "    222946.078125,\n",
       "    135830.84375,\n",
       "    124926.7421875,\n",
       "    178755.171875,\n",
       "    219739.5,\n",
       "    318507.59375,\n",
       "    199502.4375,\n",
       "    117942.59375,\n",
       "    148621.421875,\n",
       "    154373.15625,\n",
       "    116067.9453125,\n",
       "    184721.21875,\n",
       "    189508.859375,\n",
       "    272090.4375,\n",
       "    97616.28125,\n",
       "    260414.421875,\n",
       "    130739.515625,\n",
       "    126959.7265625,\n",
       "    106305.2578125,\n",
       "    227195.84375,\n",
       "    224671.828125,\n",
       "    148000.4375,\n",
       "    94755.4453125,\n",
       "    279513.46875,\n",
       "    200682.0625,\n",
       "    221273.703125,\n",
       "    127059.4375,\n",
       "    332673.125,\n",
       "    124039.515625,\n",
       "    202794.140625,\n",
       "    155143.734375,\n",
       "    144260.328125,\n",
       "    140090.296875,\n",
       "    178074.734375,\n",
       "    142908.859375,\n",
       "    136942.703125,\n",
       "    249453.40625,\n",
       "    148258.390625,\n",
       "    121491.1796875,\n",
       "    177835.265625,\n",
       "    180167.4375,\n",
       "    132540.421875,\n",
       "    104169.171875,\n",
       "    185940.515625,\n",
       "    152767.25,\n",
       "    163554.59375,\n",
       "    120131.265625,\n",
       "    346790.8125,\n",
       "    147134.015625,\n",
       "    186863.8125,\n",
       "    204032.71875,\n",
       "    146611.109375,\n",
       "    318059.875,\n",
       "    125352.78125,\n",
       "    193638.5,\n",
       "    120168.1953125,\n",
       "    152557.515625,\n",
       "    278323.875,\n",
       "    108034.1171875,\n",
       "    98264.5,\n",
       "    122005.25,\n",
       "    255122.390625,\n",
       "    129271.46875,\n",
       "    152272.6875,\n",
       "    184273.53125,\n",
       "    174228.75,\n",
       "    209938.453125,\n",
       "    239851.546875,\n",
       "    129402.390625,\n",
       "    143647.15625]}},\n",
       " 'meta': {}}"
      ]
     },
     "execution_count": 19,
     "metadata": {},
     "output_type": "execute_result"
    }
   ],
   "source": [
    "endpoint.predict_nparray(test_X)"
   ]
  },
  {
   "cell_type": "code",
   "execution_count": 20,
   "metadata": {},
   "outputs": [
    {
     "data": {
      "text/plain": [
       "'{\"data\":{\"tensor\":{\"shape\":[365],\"values\":[165164.875,111924.984375,191548.140625,104526.6171875,179303.25,84702.0546875,118877.984375,132294.71875,133606.21875,107332.8515625,321764.0,182190.046875,230963.40625,174228.75,290951.1875,177461.453125,200190.75,122958.15625,133376.265625,123258.2734375,285932.1875,201018.390625,133680.75,130342.6328125,127097.6015625,118401.671875,215022.828125,84957.3671875,102413.1953125,176742.28125,118672.8125,209591.78125,236567.546875,217784.34375,122548.890625,160624.375,131057.703125,134156.1875,249800.1875,174228.75,114823.9296875,129791.625,98600.8046875,180586.625,126388.6328125,124807.3125,166880.390625,355064.84375,109526.2578125,94474.359375,126749.578125,170985.75,174361.765625,138643.71875,157280.078125,119259.4453125,154374.9375,187144.859375,122540.9609375,200533.078125,181294.203125,159886.875,206930.671875,253135.796875,181625.515625,143236.828125,191254.375,130490.75,137577.46875,170611.625,207779.203125,272294.34375,190662.78125,205116.796875,526586.4375,143837.375,157149.859375,165923.203125,228033.734375,187172.359375,338046.84375,120825.1796875,126957.6171875,114072.6796875,103545.4609375,259559.96875,270535.9375,499964.53125,135216.421875,180392.265625,116077.375,136770.515625,286147.78125,185699.25,200906.015625,180145.21875,192029.4375,122861.75,161015.125,129805.796875,160490.828125,236654.921875,157367.78125,182491.71875,151865.34375,106837.4140625,198299.59375,114978.1640625,202650.546875,144303.359375,265236.90625,119863.796875,191211.625,135874.21875,265681.59375,189182.453125,202412.5625,95642.8515625,114197.125,124095.859375,115767.5703125,154686.1875,246418.90625,83201.3359375,104709.1640625,118061.8046875,123881.734375,165511.25,165251.296875,196617.796875,119842.203125,213939.21875,137361.0,355497.46875,147768.5625,187740.90625,140174.375,109986.3984375,143959.015625,122649.203125,126230.9375,170381.625,224263.34375,163157.40625,233207.96875,201542.546875,218514.765625,174338.796875,402566.40625,185948.09375,201676.234375,190340.453125,144720.359375,170838.96875,116839.9921875,236463.09375,187819.4375,122607.1015625,238643.015625,183409.890625,129401.6875,344992.34375,91297.0625,181686.9375,143579.546875,182349.46875,131816.59375,143934.125,170543.671875,165721.453125,169037.125,174665.015625,393345.9375,382654.1875,139518.453125,211469.90625,153919.21875,128173.8203125,149318.015625,124562.1796875,146217.296875,160120.15625,191950.390625,253913.703125,86779.6328125,211258.515625,197550.078125,149786.421875,150849.40625,202736.046875,126042.3203125,153412.015625,182693.15625,252337.59375,258580.8125,153919.796875,113842.5,119477.890625,175176.3125,125133.8203125,131214.25,141566.9375,142202.765625,325560.78125,145899.25,226686.515625,153221.421875,310388.40625,214828.921875,169026.765625,298564.875,190652.390625,150662.875,129875.3125,166960.546875,268421.78125,204183.984375,306512.21875,376249.90625,122515.9609375,179472.796875,257426.953125,182441.921875,285327.5625,114184.4296875,149094.515625,89338.7421875,221026.953125,87669.328125,276347.5625,73050.1875,94938.9375,129245.5859375,208057.734375,186071.515625,250905.390625,125263.6640625,118943.78125,115076.1171875,125058.1328125,155351.359375,136482.3125,75656.9453125,225892.609375,124798.796875,112248.109375,167185.0,266368.53125,163691.75,180332.703125,93415.6328125,240377.3125,285362.625,231874.1875,213714.828125,175392.5,164694.75,122010.8984375,399697.8125,243099.640625,203437.328125,120459.90625,156940.03125,161801.734375,339759.21875,172179.015625,235628.703125,144755.03125,165121.3125,162937.890625,193458.28125,210442.25,138503.546875,139602.34375,240917.96875,108414.078125,169912.40625,242630.140625,393459.78125,244548.78125,248732.0,103162.375,140660.171875,106181.9140625,152492.734375,80718.6953125,192380.5625,158723.59375,142316.625,106969.671875,111894.921875,248363.53125,166556.625,346290.8125,130606.0859375,222946.078125,135830.84375,124926.7421875,178755.171875,219739.5,318507.59375,199502.4375,117942.59375,148621.421875,154373.15625,116067.9453125,184721.21875,189508.859375,272090.4375,97616.28125,260414.421875,130739.515625,126959.7265625,106305.2578125,227195.84375,224671.828125,148000.4375,94755.4453125,279513.46875,200682.0625,221273.703125,127059.4375,332673.125,124039.515625,202794.140625,155143.734375,144260.328125,140090.296875,178074.734375,142908.859375,136942.703125,249453.40625,148258.390625,121491.1796875,177835.265625,180167.4375,132540.421875,104169.171875,185940.515625,152767.25,163554.59375,120131.265625,346790.8125,147134.015625,186863.8125,204032.71875,146611.109375,318059.875,125352.78125,193638.5,120168.1953125,152557.515625,278323.875,108034.1171875,98264.5,122005.25,255122.390625,129271.46875,152272.6875,184273.53125,174228.75,209938.453125,239851.546875,129402.390625,143647.15625]}},\"meta\":{}}\\n'"
      ]
     },
     "execution_count": 20,
     "metadata": {},
     "output_type": "execute_result"
    }
   ],
   "source": [
    "r = requests.post(url_prediction, data={'json':serialized_data})#, headers = headers, timeout=1000)\n",
    "r.text"
   ]
  },
  {
   "cell_type": "code",
   "execution_count": 21,
   "metadata": {},
   "outputs": [
    {
     "name": "stderr",
     "output_type": "stream",
     "text": [
      "Deleted service: kubeflow/fairing-service-b8b42\n",
      "Deleted deployment: kubeflow/fairing-deployer-s8dlp\n"
     ]
    }
   ],
   "source": [
    "endpoint.delete()"
   ]
  },
  {
   "cell_type": "code",
   "execution_count": null,
   "metadata": {},
   "outputs": [],
   "source": []
  },
  {
   "cell_type": "code",
   "execution_count": null,
   "metadata": {},
   "outputs": [],
   "source": []
  }
 ],
 "metadata": {
  "kernelspec": {
   "display_name": "Python 3",
   "language": "python",
   "name": "python3"
  },
  "language_info": {
   "codemirror_mode": {
    "name": "ipython",
    "version": 3
   },
   "file_extension": ".py",
   "mimetype": "text/x-python",
   "name": "python",
   "nbconvert_exporter": "python",
   "pygments_lexer": "ipython3",
   "version": "3.6.7"
  }
 },
 "nbformat": 4,
 "nbformat_minor": 4
}
